{
 "cells": [
  {
   "cell_type": "code",
   "execution_count": 1,
   "id": "d70417e2",
   "metadata": {},
   "outputs": [],
   "source": [
    "# Example Simple Linear Regression\n",
    "from math import sqrt\n",
    "# Calculate root mean squared error\n",
    "def rmse_metric(actual, predicted):\n",
    "    sum_error = 0.0\n",
    "    for i in range(len(actual)):\n",
    "        prediction_error = predicted[i] - actual[i]\n",
    "        sum_error += (prediction_error ** 2)\n",
    "    mean_error = sum_error / float(len(actual))\n",
    "    return sqrt(mean_error)"
   ]
  },
  {
   "cell_type": "code",
   "execution_count": 86,
   "id": "2bc48415",
   "metadata": {},
   "outputs": [],
   "source": [
    "# Evaluate regression algorithm on training dataset\n",
    "def evaluate_algorithm1(dataset, algorithm):\n",
    "    test_set = list()\n",
    "    for row in dataset:\n",
    "        row_copy = list(row)\n",
    "        row_copy[-1] = None\n",
    "        test_set.append(row_copy)\n",
    "    predicted = algorithm(dataset, test_set)\n",
    "    print(predicted)\n",
    "    actual = [row[-1] for row in dataset]\n",
    "    rmse = rmse_metric(actual, predicted)\n",
    "    return rmse\n"
   ]
  },
  {
   "cell_type": "code",
   "execution_count": 3,
   "id": "d3739071",
   "metadata": {},
   "outputs": [],
   "source": [
    "# Calculate the mean value of a list of numbers\n",
    "def mean(values):\n",
    "    return sum(values) / float(len(values))\n",
    "                           \n"
   ]
  },
  {
   "cell_type": "code",
   "execution_count": 4,
   "id": "4a053b50",
   "metadata": {},
   "outputs": [],
   "source": [
    "# Calculate covariance between x and y\n",
    "def covariance(x, mean_x, y, mean_y):\n",
    "    covar = 0.0\n",
    "    for i in range(len(x)):\n",
    "        covar += (x[i] - mean_x) * (y[i] - mean_y)\n",
    "    return covar\n"
   ]
  },
  {
   "cell_type": "code",
   "execution_count": 5,
   "id": "bf162e8f",
   "metadata": {},
   "outputs": [],
   "source": [
    "# Calculate the variance of a list of numbers\n",
    "def variance(values, mean):\n",
    "    return sum([(x-mean)**2 for x in values])\n"
   ]
  },
  {
   "cell_type": "code",
   "execution_count": 41,
   "id": "b4145d82",
   "metadata": {},
   "outputs": [],
   "source": [
    "# Calculate coefficients\n",
    "def coefficients(dataset):\n",
    "    x = list(map(float,[row[0] for row in dataset]))\n",
    "    y = list(map(float,[row[1] for row in dataset]))\n",
    "    x_mean, y_mean = mean(x), mean(y)\n",
    "    b1 = covariance(x, x_mean, y, y_mean) / variance(x, x_mean)\n",
    "    b0 = y_mean - b1 * x_mean\n",
    "    return [b0, b1]\n"
   ]
  },
  {
   "cell_type": "code",
   "execution_count": 42,
   "id": "64482cc6",
   "metadata": {},
   "outputs": [
    {
     "data": {
      "text/plain": [
       "[19.99448575911481, 3.4138235600663664]"
      ]
     },
     "execution_count": 42,
     "metadata": {},
     "output_type": "execute_result"
    }
   ],
   "source": [
    "coefficients(dataset)"
   ]
  },
  {
   "cell_type": "code",
   "execution_count": 43,
   "id": "88edfbac",
   "metadata": {},
   "outputs": [
    {
     "data": {
      "text/plain": [
       "str"
      ]
     },
     "execution_count": 43,
     "metadata": {},
     "output_type": "execute_result"
    }
   ],
   "source": [
    "type(dataset[0][1])"
   ]
  },
  {
   "cell_type": "code",
   "execution_count": 76,
   "id": "59560933",
   "metadata": {},
   "outputs": [],
   "source": [
    "# Split a dataset into a train and test set\n",
    "def train_test_split(dataset, split):\n",
    "    train = list()\n",
    "    train_size = split * len(dataset)\n",
    "    dataset_copy = list(dataset)\n",
    "    dataset_copy = [list(map(float, sublist)) for sublist in dataset_copy]\n",
    "    while len(train) < train_size:\n",
    "        index = randrange(len(dataset_copy))\n",
    "        train.append(dataset_copy.pop(index))\n",
    "        train=[list(map(float, sublist)) for sublist in train]\n",
    "    return train, dataset_copy\n"
   ]
  },
  {
   "cell_type": "code",
   "execution_count": 78,
   "id": "d751ed28",
   "metadata": {},
   "outputs": [],
   "source": [
    "A,B =train_test_split(dataset, 0.6)"
   ]
  },
  {
   "cell_type": "code",
   "execution_count": 79,
   "id": "eed43ef6",
   "metadata": {},
   "outputs": [
    {
     "data": {
      "text/plain": [
       "[[3.0, 39.9],\n",
       " [11.0, 23.5],\n",
       " [11.0, 57.2],\n",
       " [53.0, 244.6],\n",
       " [9.0, 87.4],\n",
       " [12.0, 58.1],\n",
       " [2.0, 6.6],\n",
       " [20.0, 98.1],\n",
       " [61.0, 217.6],\n",
       " [29.0, 103.9],\n",
       " [37.0, 152.8],\n",
       " [7.0, 77.5],\n",
       " [22.0, 161.5],\n",
       " [23.0, 113.0],\n",
       " [8.0, 55.6],\n",
       " [11.0, 21.3],\n",
       " [13.0, 93.0],\n",
       " [108.0, 392.5],\n",
       " [25.0, 69.2],\n",
       " [41.0, 73.4],\n",
       " [10.0, 65.3],\n",
       " [17.0, 142.1],\n",
       " [29.0, 133.3],\n",
       " [6.0, 50.9],\n",
       " [60.0, 202.4],\n",
       " [40.0, 119.4],\n",
       " [13.0, 31.9],\n",
       " [4.0, 12.6],\n",
       " [3.0, 4.4],\n",
       " [14.0, 95.5],\n",
       " [27.0, 92.6],\n",
       " [26.0, 187.5],\n",
       " [8.0, 76.1],\n",
       " [24.0, 134.9],\n",
       " [9.0, 52.1],\n",
       " [6.0, 14.8],\n",
       " [19.0, 46.2],\n",
       " [5.0, 40.3]]"
      ]
     },
     "execution_count": 79,
     "metadata": {},
     "output_type": "execute_result"
    }
   ],
   "source": [
    "A"
   ]
  },
  {
   "cell_type": "code",
   "execution_count": 80,
   "id": "aeaab5fb",
   "metadata": {},
   "outputs": [
    {
     "data": {
      "text/plain": [
       "[[13.0, 15.7],\n",
       " [124.0, 422.2],\n",
       " [57.0, 170.9],\n",
       " [23.0, 56.9],\n",
       " [14.0, 77.5],\n",
       " [45.0, 214.0],\n",
       " [5.0, 20.9],\n",
       " [48.0, 248.1],\n",
       " [23.0, 39.6],\n",
       " [7.0, 48.8],\n",
       " [9.0, 48.7],\n",
       " [3.0, 13.2],\n",
       " [4.0, 11.8],\n",
       " [7.0, 27.9],\n",
       " [4.0, 38.1],\n",
       " [0.0, 0.0],\n",
       " [6.0, 14.6],\n",
       " [16.0, 59.6],\n",
       " [13.0, 89.9],\n",
       " [41.0, 181.3],\n",
       " [55.0, 162.8],\n",
       " [15.0, 32.1],\n",
       " [30.0, 194.5],\n",
       " [24.0, 137.9],\n",
       " [31.0, 209.8]]"
      ]
     },
     "execution_count": 80,
     "metadata": {},
     "output_type": "execute_result"
    }
   ],
   "source": [
    "B"
   ]
  },
  {
   "cell_type": "code",
   "execution_count": 81,
   "id": "e9be0076",
   "metadata": {},
   "outputs": [
    {
     "data": {
      "text/plain": [
       "[13.0, 15.7]"
      ]
     },
     "execution_count": 81,
     "metadata": {},
     "output_type": "execute_result"
    }
   ],
   "source": [
    "B[0]"
   ]
  },
  {
   "cell_type": "code",
   "execution_count": 83,
   "id": "90c17a71",
   "metadata": {},
   "outputs": [],
   "source": [
    "# Simple linear regression algorithm\n",
    "def simple_linear_regression(train, test):\n",
    "    predictions = list()\n",
    "    b0, b1 = coefficients(train)\n",
    "    for row in test:\n",
    "        yhat = b0 + b1 * row[0]\n",
    "        predictions.append(yhat)\n",
    "    return predictions\n"
   ]
  },
  {
   "cell_type": "code",
   "execution_count": 84,
   "id": "001ac45a",
   "metadata": {},
   "outputs": [
    {
     "data": {
      "text/plain": [
       "[67.03771221677779,\n",
       " 435.33268170361924,\n",
       " 213.02851093228253,\n",
       " 100.21743919757432,\n",
       " 70.35568491485745,\n",
       " 173.21283855532667,\n",
       " 40.49393063214057,\n",
       " 183.16675664956563,\n",
       " 100.21743919757432,\n",
       " 47.129876028299876,\n",
       " 53.765821424459176,\n",
       " 33.85798523598126,\n",
       " 37.17595793406092,\n",
       " 47.129876028299876,\n",
       " 37.17595793406092,\n",
       " 23.904067141742303,\n",
       " 43.81190333022022,\n",
       " 76.99163031101675,\n",
       " 67.03771221677779,\n",
       " 159.94094776300807,\n",
       " 206.39256553612321,\n",
       " 73.67365761293709,\n",
       " 123.4432480841319,\n",
       " 103.53541189565397,\n",
       " 126.76122078221154]"
      ]
     },
     "execution_count": 84,
     "metadata": {},
     "output_type": "execute_result"
    }
   ],
   "source": [
    "simple_linear_regression(A,B)"
   ]
  },
  {
   "cell_type": "code",
   "execution_count": 87,
   "id": "1ab18c62",
   "metadata": {},
   "outputs": [
    {
     "name": "stdout",
     "output_type": "stream",
     "text": [
      "[1.1999999999999995, 1.9999999999999996, 3.5999999999999996, 2.8, 4.3999999999999995]\n",
      "RMSE: 0.693\n"
     ]
    }
   ],
   "source": [
    "# Test simple linear regression\n",
    "dataset = [[1, 1], [2, 3], [4, 3], [3, 2], [5, 5]]\n",
    "rmse = evaluate_algorithm1(dataset, simple_linear_regression)\n",
    "print('RMSE: %.3f' % (rmse))"
   ]
  },
  {
   "cell_type": "code",
   "execution_count": null,
   "id": "42aab918",
   "metadata": {},
   "outputs": [],
   "source": [
    "##### example insurance csv"
   ]
  },
  {
   "cell_type": "code",
   "execution_count": 107,
   "id": "5d1c714e",
   "metadata": {},
   "outputs": [],
   "source": [
    "# Example of Simple Linear Regression on the Swedish Insurance Dataset\n",
    "from random import seed\n",
    "from random import randrange\n",
    "from csv import reader\n",
    "from math import sqrt\n"
   ]
  },
  {
   "cell_type": "code",
   "execution_count": 108,
   "id": "ec3f4c65",
   "metadata": {},
   "outputs": [],
   "source": [
    "def load_csv(filename):\n",
    "    dataset = list()\n",
    "    with open(filename, 'r') as file:\n",
    "        csv_reader = reader(file)\n",
    "        for row in csv_reader:\n",
    "            if not row:\n",
    "                continue\n",
    "            dataset.append(row)\n",
    "    return dataset"
   ]
  },
  {
   "cell_type": "code",
   "execution_count": 109,
   "id": "d74b60de",
   "metadata": {},
   "outputs": [],
   "source": [
    "#Convert string column to float\n",
    "def str_column_to_float(dataset, column):\n",
    "    for row in dataset:\n",
    "        row[column] = float(row[column].strip())"
   ]
  },
  {
   "cell_type": "code",
   "execution_count": 125,
   "id": "85c8364d",
   "metadata": {},
   "outputs": [],
   "source": [
    "# Split a dataset into a train and test set\n",
    "def train_test_split(dataset, split):\n",
    "    train = list()\n",
    "    train_size = split * len(dataset)\n",
    "    dataset_copy = list(dataset)\n",
    "    dataset_copy = [list(map(float, sublist)) for sublist in dataset_copy]\n",
    "    while len(train) < train_size:\n",
    "        index = randrange(len(dataset_copy))\n",
    "        train.append(dataset_copy.pop(index))\n",
    "        train=[list(map(float, sublist)) for sublist in train]\n",
    "    return train, dataset_copy"
   ]
  },
  {
   "cell_type": "code",
   "execution_count": 126,
   "id": "be16663d",
   "metadata": {},
   "outputs": [],
   "source": [
    " #Calculate root mean squared error\n",
    "def rmse_metric(actual, predicted):\n",
    "    sum_error = 0.0\n",
    "    for i in range(len(actual)):\n",
    "        prediction_error = predicted[i] - actual[i]\n",
    "        sum_error += (prediction_error ** 2)\n",
    "    mean_error = sum_error / float(len(actual))\n",
    "    return sqrt(mean_error)\n"
   ]
  },
  {
   "cell_type": "code",
   "execution_count": 127,
   "id": "c4ca537b",
   "metadata": {},
   "outputs": [],
   "source": [
    "a,b=train_test_split(dataset, 0.6)"
   ]
  },
  {
   "cell_type": "code",
   "execution_count": 128,
   "id": "ee26dac1",
   "metadata": {},
   "outputs": [
    {
     "data": {
      "text/plain": [
       "[[124.0, 422.2],\n",
       " [57.0, 170.9],\n",
       " [14.0, 77.5],\n",
       " [10.0, 65.3],\n",
       " [23.0, 39.6],\n",
       " [2.0, 6.6],\n",
       " [3.0, 4.4],\n",
       " [23.0, 113.0],\n",
       " [6.0, 14.8],\n",
       " [9.0, 48.7],\n",
       " [9.0, 52.1],\n",
       " [3.0, 13.2],\n",
       " [29.0, 103.9],\n",
       " [7.0, 77.5],\n",
       " [5.0, 40.3],\n",
       " [16.0, 59.6],\n",
       " [13.0, 89.9],\n",
       " [60.0, 202.4],\n",
       " [41.0, 181.3],\n",
       " [11.0, 21.3],\n",
       " [27.0, 92.6],\n",
       " [15.0, 32.1],\n",
       " [9.0, 87.4],\n",
       " [31.0, 209.8],\n",
       " [53.0, 244.6]]"
      ]
     },
     "execution_count": 128,
     "metadata": {},
     "output_type": "execute_result"
    }
   ],
   "source": [
    "b"
   ]
  },
  {
   "cell_type": "code",
   "execution_count": 129,
   "id": "ca4e8242",
   "metadata": {},
   "outputs": [],
   "source": [
    "# Evaluate an algorithm using a train/test split\n",
    "def evaluate_algorithm(dataset, algorithm, split, *args):\n",
    "    train, test = train_test_split(dataset, split)\n",
    "    test_set = list()\n",
    "    for row in test:\n",
    "        row_copy = list(row)\n",
    "        row_copy[-1] = None\n",
    "        test_set.append(row_copy)\n",
    "    predicted = algorithm(train, test_set, *args)\n",
    "    actual = [row[-1] for row in test]\n",
    "    rmse = rmse_metric(actual, predicted)\n",
    "    return rmse\n"
   ]
  },
  {
   "cell_type": "code",
   "execution_count": 130,
   "id": "04a6b672",
   "metadata": {},
   "outputs": [],
   "source": [
    "# Calculate the mean value of a list of numbers\n",
    "def mean(values):\n",
    "    return sum(values) / float(len(values))\n"
   ]
  },
  {
   "cell_type": "code",
   "execution_count": 131,
   "id": "2c4d7ed4",
   "metadata": {},
   "outputs": [],
   "source": [
    "# Calculate covariance between x and y\n",
    "def covariance(x, mean_x, y, mean_y):\n",
    "    covar = 0.0\n",
    "    for i in range(len(x)):\n",
    "        covar += (x[i] - mean_x) * (y[i] - mean_y)\n",
    "    return covar"
   ]
  },
  {
   "cell_type": "code",
   "execution_count": 132,
   "id": "0132f4fc",
   "metadata": {},
   "outputs": [],
   "source": [
    "# Calculate the variance of a list of numbers\n",
    "def variance(values, mean):\n",
    "    return sum([(x-mean)**2 for x in values])\n"
   ]
  },
  {
   "cell_type": "code",
   "execution_count": 133,
   "id": "33f722d3",
   "metadata": {},
   "outputs": [],
   "source": [
    "# Calculate coefficients\n",
    "def coefficients(dataset):\n",
    "    x = list(map(float,[row[0] for row in dataset]))\n",
    "    y = list(map(float,[row[1] for row in dataset]))\n",
    "    x_mean, y_mean = mean(x), mean(y)\n",
    "    b1 = covariance(x, x_mean, y, y_mean) / variance(x, x_mean)\n",
    "    b0 = y_mean - b1 * x_mean\n",
    "    return [b0, b1]\n",
    "\n"
   ]
  },
  {
   "cell_type": "code",
   "execution_count": 134,
   "id": "ae3770c8",
   "metadata": {},
   "outputs": [],
   "source": [
    "# Simple linear regression algorithm\n",
    "def simple_linear_regression(train, test):\n",
    "    predictions = list()\n",
    "    b0, b1 = coefficients(train)\n",
    "    for row in test:\n",
    "        yhat = b0 + b1 * row[0]\n",
    "        predictions.append(yhat)\n",
    "    return predictions"
   ]
  },
  {
   "cell_type": "code",
   "execution_count": 135,
   "id": "bf9ca1a5",
   "metadata": {},
   "outputs": [],
   "source": [
    "# Simple linear regression on insurance dataset\n",
    "seed(1)\n",
    "# load and prepare data\n",
    "filename = 'insurance_1.csv'\n",
    "dataset = load_csv(filename)\n"
   ]
  },
  {
   "cell_type": "code",
   "execution_count": 136,
   "id": "5396e29d",
   "metadata": {},
   "outputs": [
    {
     "data": {
      "text/plain": [
       "[['108', '392.5'],\n",
       " ['19', '46.2'],\n",
       " ['13', '15.7'],\n",
       " ['124', '422.2'],\n",
       " ['40', '119.4'],\n",
       " ['57', '170.9'],\n",
       " ['23', '56.9'],\n",
       " ['14', '77.5'],\n",
       " ['45', '214'],\n",
       " ['10', '65.3'],\n",
       " ['5', '20.9'],\n",
       " ['48', '248.1'],\n",
       " ['11', '23.5'],\n",
       " ['23', '39.6'],\n",
       " ['7', '48.8'],\n",
       " ['2', '6.6'],\n",
       " ['24', '134.9'],\n",
       " ['6', '50.9'],\n",
       " ['3', '4.4'],\n",
       " ['23', '113'],\n",
       " ['6', '14.8'],\n",
       " ['9', '48.7'],\n",
       " ['9', '52.1'],\n",
       " ['3', '13.2'],\n",
       " ['29', '103.9'],\n",
       " ['7', '77.5'],\n",
       " ['4', '11.8'],\n",
       " ['20', '98.1'],\n",
       " ['7', '27.9'],\n",
       " ['4', '38.1'],\n",
       " ['0', '0'],\n",
       " ['25', '69.2'],\n",
       " ['6', '14.6'],\n",
       " ['5', '40.3'],\n",
       " ['22', '161.5'],\n",
       " ['11', '57.2'],\n",
       " ['61', '217.6'],\n",
       " ['12', '58.1'],\n",
       " ['4', '12.6'],\n",
       " ['16', '59.6'],\n",
       " ['13', '89.9'],\n",
       " ['60', '202.4'],\n",
       " ['41', '181.3'],\n",
       " ['37', '152.8'],\n",
       " ['55', '162.8'],\n",
       " ['41', '73.4'],\n",
       " ['11', '21.3'],\n",
       " ['27', '92.6'],\n",
       " ['8', '76.1'],\n",
       " ['3', '39.9'],\n",
       " ['17', '142.1'],\n",
       " ['13', '93'],\n",
       " ['13', '31.9'],\n",
       " ['15', '32.1'],\n",
       " ['8', '55.6'],\n",
       " ['29', '133.3'],\n",
       " ['30', '194.5'],\n",
       " ['24', '137.9'],\n",
       " ['9', '87.4'],\n",
       " ['31', '209.8'],\n",
       " ['14', '95.5'],\n",
       " ['53', '244.6'],\n",
       " ['26', '187.5']]"
      ]
     },
     "execution_count": 136,
     "metadata": {},
     "output_type": "execute_result"
    }
   ],
   "source": [
    "dataset"
   ]
  },
  {
   "cell_type": "code",
   "execution_count": 137,
   "id": "c7fc9dd3",
   "metadata": {},
   "outputs": [
    {
     "name": "stdout",
     "output_type": "stream",
     "text": [
      "RMSE: 33.630\n"
     ]
    }
   ],
   "source": [
    "# evaluate algorithm\n",
    "split = 0.6\n",
    "rmse = evaluate_algorithm(dataset, simple_linear_regression, split)\n",
    "print('RMSE: %.3f' % (rmse))"
   ]
  }
 ],
 "metadata": {
  "kernelspec": {
   "display_name": "Python 3 (ipykernel)",
   "language": "python",
   "name": "python3"
  },
  "language_info": {
   "codemirror_mode": {
    "name": "ipython",
    "version": 3
   },
   "file_extension": ".py",
   "mimetype": "text/x-python",
   "name": "python",
   "nbconvert_exporter": "python",
   "pygments_lexer": "ipython3",
   "version": "3.9.12"
  }
 },
 "nbformat": 4,
 "nbformat_minor": 5
}
